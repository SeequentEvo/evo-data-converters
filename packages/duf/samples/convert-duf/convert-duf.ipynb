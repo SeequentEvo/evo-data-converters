{
 "cells": [
  {
   "cell_type": "markdown",
   "metadata": {},
   "source": [
    "# Publish Geoscience objects from a DUF file\n",
    "\n",
    "This notebook shows how you can login to Evo and publish Geoscience objects from a DUF file to your chosen workspace.\n",
    "\n",
    "In this first cell we create a ServiceManagerWidget which will open a browser window and ask you to login.\n",
    "\n",
    "Once logged in, a widget will be displayed below allowing you to select an organisation and workspace to publish objects to.\n",
    "\n",
    "__Required:__ You must fill in your `client_id` before running this cell."
   ]
  },
  {
   "metadata": {},
   "cell_type": "code",
   "source": [
    "from evo.notebooks import ServiceManagerWidget\n",
    "from evo.oauth import OAuthScopes\n",
    "\n",
    "manager = await ServiceManagerWidget.with_auth_code(\n",
    "    client_id=\"\",\n",
    "    oidc_issuer=\"https://ims.bentley.com\",\n",
    "    discovery_url=\"https://discover.api.seequent.com\",\n",
    "    redirect_url=\"http://localhost:3000/signin-oidc\",\n",
    "    oauth_scopes=OAuthScopes.evo_object\n",
    "    | OAuthScopes.evo_workspace\n",
    "    | OAuthScopes.evo_discovery\n",
    "    | OAuthScopes.offline_access\n",
    "    | OAuthScopes.openid,\n",
    ").login()"
   ],
   "outputs": [],
   "execution_count": null
  },
  {
   "cell_type": "markdown",
   "metadata": {},
   "source": [
    "In the cell below we choose the DUF file we want to publish and set its path in the `duf_file` variable.\n",
    "\n",
    "Then we choose an EPSG code to use for the Coordinate Reference System.\n",
    "\n",
    "You may also specify tags to add to the created Geoscience objects.\n",
    "\n",
    "Then we call `convert_duf`, passing it the DUF file path, EPSG code, the service manager widget from above and finally a\n",
    "path we want the published objects to appear under.\n",
    "\n",
    "Then we loop over the results from the `convert_duf` function, printing out each object that was published to Evo.\n",
    "\n",
    "_Note:_ Some geometry types are not yet supported. A warning will be shown for each element that could not be converted.\n",
    " Currently, for publishing we support polyface objects and polylines, and all attribute types except for color\n",
    " attributes."
   ]
  },
  {
   "metadata": {},
   "cell_type": "code",
   "source": [
    "import os\n",
    "import pprint\n",
    "\n",
    "from evo.data_converters.duf.importer import convert_duf\n",
    "\n",
    "duf_file = os.path.join(os.getcwd(), \"data\", \"input\", \"Marlin Stopes.duf\")\n",
    "epsg_code = 32650\n",
    "\n",
    "tags = {\"TagName\": \"Tag value\"}\n",
    "objects_metadata = convert_duf(\n",
    "    filepath=duf_file,\n",
    "    epsg_code=epsg_code,\n",
    "    service_manager_widget=manager,\n",
    "    tags=tags,\n",
    "    upload_path=\"notebook\",\n",
    "    combine_objects_in_layers=True\n",
    ")\n",
    "\n",
    "print()\n",
    "print(\"These objects have now been published:\")\n",
    "\n",
    "for metadata in objects_metadata:\n",
    "    pprint.pp(metadata, indent=4)"
   ],
   "outputs": [],
   "execution_count": null
  }
 ],
 "metadata": {
  "kernelspec": {
   "display_name": "venv",
   "language": "python",
   "name": "python3"
  },
  "language_info": {
   "codemirror_mode": {
    "name": "ipython",
    "version": 3
   },
   "file_extension": ".py",
   "mimetype": "text/x-python",
   "name": "python",
   "nbconvert_exporter": "python",
   "pygments_lexer": "ipython3",
   "version": "3.10.15"
  }
 },
 "nbformat": 4,
 "nbformat_minor": 2
}
