{
 "cells": [
  {
   "cell_type": "markdown",
   "metadata": {},
   "source": [
    "# Publish Geoscience objects from a DUF file\n",
    "\n",
    "This notebook shows how you can login to Evo and publish Geoscience objects from a DUF file to your chosen workspace.\n",
    "\n",
    "In this first cell we create a ServiceManagerWidget which will open a browser window and ask you to login.\n",
    "\n",
    "Once logged in, a widget will be displayed below allowing you to select an organisation and workspace to publish objects to.\n",
    "\n",
    "__Required:__ You must fill in your `client_id` before running this cell."
   ]
  },
  {
   "cell_type": "code",
   "metadata": {
    "ExecuteTime": {
     "end_time": "2025-05-22T05:27:46.047383Z",
     "start_time": "2025-05-22T05:27:44.136843Z"
    }
   },
   "source": [
    "from evo.notebooks import ServiceManagerWidget\n",
    "from evo.oauth import OAuthScopes\n",
    "\n",
    "manager = await ServiceManagerWidget.with_auth_code(\n",
    "    client_id=\"native-jupyter-app\",\n",
    "    oidc_issuer=\"https://qa-ims.bentley.com\",\n",
    "    discovery_url=\"https://uat-discover.test.api.seequent.com\",\n",
    "    redirect_url=\"http://localhost:32369/auth/callback\",\n",
    "    oauth_scopes=OAuthScopes.evo_object\n",
    "    | OAuthScopes.evo_workspace\n",
    "    | OAuthScopes.evo_discovery\n",
    "    | OAuthScopes.offline_access\n",
    "    | OAuthScopes.openid,\n",
    ").login()"
   ],
   "outputs": [
    {
     "name": "stderr",
     "output_type": "stream",
     "text": [
      "C:\\Source\\schemas\\evo-data-converters\\.venv\\lib\\site-packages\\evo\\notebooks\\authorizer.py:124: UserWarning: The evo.notebooks.AuthorizationCodeAuthorizer is not secure, and should only ever be used in Jupyter notebooks in a private environment.\n",
      "  warnings.warn(\n"
     ]
    },
    {
     "data": {
      "text/plain": [
       "ServiceManagerWidget(children=(VBox(children=(HBox(children=(Image(value=b'\\x89PNG\\r\\n\\x1a\\n\\x00\\x00\\x00\\rIHDR…"
      ],
      "application/vnd.jupyter.widget-view+json": {
       "version_major": 2,
       "version_minor": 0,
       "model_id": "3db2be576e474ef1a6e960e7bec9bcbb"
      }
     },
     "metadata": {},
     "output_type": "display_data"
    }
   ],
   "execution_count": 1
  },
  {
   "cell_type": "markdown",
   "metadata": {},
   "source": [
    "In the cell below we choose the DUF file we want to publish and set its path in the `duf_file` variable.\n",
    "\n",
    "Then we choose an EPSG code to use for the Coordinate Reference System.\n",
    "\n",
    "You may also specify tags to add to the created Geoscience objects.\n",
    "\n",
    "Then we call `convert_duf`, passing it the SUF file path, EPSG code, the service manager widget from above and finally a path we want the published objects to appear under.\n",
    "\n",
    "Then we loop over the results from the `convert_duf` function, printing out each object that was published to Evo.\n",
    "\n",
    "_Note:_ Some geometry types are not yet supported. A warning will be shown for each element that could not be converted."
   ]
  },
  {
   "cell_type": "code",
   "metadata": {
    "ExecuteTime": {
     "end_time": "2025-05-22T05:27:52.079954Z",
     "start_time": "2025-05-22T05:27:48.226371Z"
    }
   },
   "source": [
    "import os\n",
    "import pprint\n",
    "\n",
    "from evo.data_converters.duf.importer import convert_duf\n",
    "\n",
    "duf_file = os.path.join(os.getcwd(), \"data\", \"input\", \"Pit Mesh.duf\")\n",
    "epsg_code = 32650\n",
    "\n",
    "tags = {\"TagName\": \"Tag value\"}\n",
    "objects_metadata = convert_duf(\n",
    "    filepath=duf_file, epsg_code=epsg_code, service_manager_widget=manager, tags=None, upload_path=\"notebook\"\n",
    ")\n",
    "\n",
    "print()\n",
    "print(\"These objects have now been published:\")\n",
    "\n",
    "for metadata in objects_metadata:\n",
    "    pprint.pp(metadata, indent=4)"
   ],
   "outputs": [
    {
     "name": "stdout",
     "output_type": "stream",
     "text": [
      "\n",
      "These objects have now been published:\n",
      "TriangleMesh_V2_1_0(triangles=Triangles_V1_2_0(vertices=Triangles_V1_2_0_Vertices(attributes=None,\n",
      "                                                                                  data='5dc584707d578f61c453def3bdbaf84a8e85d442b809f82ca5ce3ef32d9a4e36',\n",
      "                                                                                  length=72061,\n",
      "                                                                                  width=3,\n",
      "                                                                                  data_type='float64'),\n",
      "                                               indices=Triangles_V1_2_0_Indices(attributes=None,\n",
      "                                                                                data='598e804304286116bdfa9b3848517e1a94a26d9841f728eb4607c09cac22837b',\n",
      "                                                                                length=142049,\n",
      "                                                                                width=3,\n",
      "                                                                                data_type='uint64')),\n",
      "                    parts=EmbeddedTriangulatedMesh_V2_1_0_Parts(attributes=[],\n",
      "                                                                chunks=IndexArray2_V1_0_1(data='752a21859b74f648d518cb85726855c605af14df3c718e6da61a21470a524ac6',\n",
      "                                                                                          length=1,\n",
      "                                                                                          width=2,\n",
      "                                                                                          data_type='uint64'),\n",
      "                                                                triangle_indices=None),\n",
      "                    name='WOLFPASS ULTIMATE PIT AND '\n",
      "                         'TOPO_DXF_WOLFPASS_ULTIMATE_PIT_AND_TOPO-dwPolyface-0deefb16-526d-485b-9931-ddbf47fd28de',\n",
      "                    uuid=None,\n",
      "                    description=None,\n",
      "                    extensions=None,\n",
      "                    tags={   'Source': 'Pit Mesh.duf (via Evo Data Converters)',\n",
      "                             'InputType': 'DUF',\n",
      "                             'Category': 'ModelEntities'},\n",
      "                    bounding_box=BoundingBox_V1_0_1(min_x=443732.0,\n",
      "                                                    max_x=447268.0,\n",
      "                                                    min_y=491732.0,\n",
      "                                                    max_y=495268.0,\n",
      "                                                    min_z=2354.9588565248,\n",
      "                                                    max_z=3604.5681013790627),\n",
      "                    coordinate_reference_system=Crs_V1_0_1_EpsgCode(epsg_code=32650),\n",
      "                    schema='/objects/triangle-mesh/2.1.0/triangle-mesh.schema.json',\n",
      "                    edges=None)\n"
     ]
    }
   ],
   "execution_count": 2
  },
  {
   "cell_type": "code",
   "execution_count": null,
   "metadata": {},
   "outputs": [],
   "source": []
  }
 ],
 "metadata": {
  "kernelspec": {
   "display_name": "venv",
   "language": "python",
   "name": "python3"
  },
  "language_info": {
   "codemirror_mode": {
    "name": "ipython",
    "version": 3
   },
   "file_extension": ".py",
   "mimetype": "text/x-python",
   "name": "python",
   "nbconvert_exporter": "python",
   "pygments_lexer": "ipython3",
   "version": "3.10.15"
  }
 },
 "nbformat": 4,
 "nbformat_minor": 2
}
