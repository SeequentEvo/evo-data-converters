{
 "cells": [
  {
   "cell_type": "markdown",
   "id": "ce6f685eb796ee7e",
   "metadata": {},
   "source": [
    "## Detect a DUF file\n",
    "\n",
    "This example shows how to use the Evo data converters library to check if a file is a Deswik Unified File (DUF)."
   ]
  },
  {
   "cell_type": "code",
   "id": "1fddf049fd8f0f73",
   "metadata": {},
   "source": [
    "import os\n",
    "\n",
    "from evo.data_converters.duf import is_duf\n",
    "\n",
    "duf_file = os.path.join(os.getcwd(), \"data\", \"input\", \"metric.duf\")\n",
    "not_duf_file = os.path.join(os.getcwd(), \"data\", \"input\", \"not-duf.duf\")\n",
    "\n",
    "for path in [duf_file, not_duf_file]:\n",
    "    if is_duf(path):\n",
    "        print(f\"{path} is a DUF file.\")\n",
    "    else:\n",
    "        print(f\"{path} is not a DUF file.\")"
   ],
   "outputs": [],
   "execution_count": null
  },
  {
   "metadata": {},
   "cell_type": "code",
   "source": "",
   "id": "291ddd141534ee68",
   "outputs": [],
   "execution_count": null
  }
 ],
 "metadata": {
  "kernelspec": {
   "display_name": "Python 3 (ipykernel)",
   "language": "python",
   "name": "python3"
  },
  "language_info": {
   "codemirror_mode": {
    "name": "ipython",
    "version": 3
   },
   "file_extension": ".py",
   "mimetype": "text/x-python",
   "name": "python",
   "nbconvert_exporter": "python",
   "pygments_lexer": "ipython3",
   "version": "3.10.9"
  }
 },
 "nbformat": 4,
 "nbformat_minor": 5
}
