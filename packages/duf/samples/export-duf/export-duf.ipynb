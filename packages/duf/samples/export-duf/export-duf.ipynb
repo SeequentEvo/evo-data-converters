{
  "cells": [
    {
      "cell_type": "markdown",
      "id": "ce6f685eb796ee7e",
      "metadata": {},
      "source": [
        "## Export a DUF file from Evo\n",
        "\n",
        "This notebook shows how you can login to Evo and export a DUF file from Evo Geoscience objects.\n",
        "\n",
        "In the first cell, we create a ServiceManagerWidget which will open a browser window and ask you to login.\n",
        "\n",
        "Once logged in, a widget will be displayed below allowing you to select an organisation and workspace to publish objects to.\n",
        "\n",
        "__Required:__ You must fill in your `client_id` before running this cell."
      ]
    },
    {
      "cell_type": "code",
      "execution_count": null,
      "id": "1fddf049fd8f0f73",
      "metadata": {},
      "outputs": [],
      "source": [
        "from evo.notebooks import ServiceManagerWidget\n",
        "from evo.oauth import OAuthScopes\n",
        "\n",
        "manager = await ServiceManagerWidget.with_auth_code(\n",
        "    client_id=\"\",\n",
        "    oidc_issuer=\"https://ims.bentley.com\",\n",
        "    discovery_url=\"https://discover.api.seequent.com\",\n",
        "    redirect_url=\"http://localhost:3000/signin-oidc\",\n",
        "    oauth_scopes=OAuthScopes.evo_object\n",
        "    | OAuthScopes.evo_workspace\n",
        "    | OAuthScopes.evo_discovery\n",
        "    | OAuthScopes.offline_access\n",
        "    | OAuthScopes.openid,\n",
        ").login()"
      ]
    },
    {
      "cell_type": "markdown",
      "id": "8e9d9ef6-0289-47e7-938a-797306ff99ac",
      "metadata": {},
      "source": [
        "First, specify the Evo Object UUIDs of the objects we want to export, OR the Evo metadata objects discovered using `api_client`.\n",
        "\n",
        "Next, set up `output_dir` and `output_file` as desired.\n",
        "\n",
        "Finally, call `export_duf(...)`."
      ]
    },
    {
      "cell_type": "code",
      "execution_count": null,
      "id": "291ddd141534ee68",
      "metadata": {},
      "outputs": [],
      "source": [
        "import os\n",
        "\n",
        "from evo.data_converters.common.evo_client import create_service_and_data_client_from_manager, EvoObjectMetadata\n",
        "from evo.data_converters.duf.exporter import export_duf\n",
        "\n",
        "\n",
        "# List of object_id and version_id pairs\n",
        "objects_to_export = [\n",
        "    # EvoObjectMetadata(object_id=..., version_id=...),\n",
        "    # EvoObjectMetadata(object_id=..., version_id=...),\n",
        "    # Add more objects as needed\n",
        "]\n",
        "\n",
        "# Or a list of Evo `ObjectMetadata` as retreived from the Evo API\n",
        "api_client, _ = create_service_and_data_client_from_manager(manager)\n",
        "# objects_to_export = [...]  # Use `api_client` to find the objects you want to export\n",
        "\n",
        "output_dir = \"data/output\"\n",
        "os.makedirs(output_dir, exist_ok=True)\n",
        "output_file = f\"{output_dir}/output.duf\"\n",
        "\n",
        "await export_duf(filepath=output_file, objects=objects_to_export, service_manager_widget=manager)"
      ]
    },
    {
      "cell_type": "code",
      "execution_count": null,
      "id": "29099def-128a-4544-86c6-2b0ba6e939e3",
      "metadata": {},
      "outputs": [],
      "source": []
    }
  ],
  "metadata": {
    "kernelspec": {
      "display_name": "Python 3 (ipykernel)",
      "language": "python",
      "name": "python3"
    },
    "language_info": {
      "codemirror_mode": {
        "name": "ipython",
        "version": 3
      },
      "file_extension": ".py",
      "mimetype": "text/x-python",
      "name": "python",
      "nbconvert_exporter": "python",
      "pygments_lexer": "ipython3",
      "version": "3.10.6"
    }
  },
  "nbformat": 4,
  "nbformat_minor": 5
}
