{
 "cells": [
  {
   "cell_type": "markdown",
   "metadata": {},
   "source": [
    "# Publish Geoscience objects from an OMF file\n",
    "\n",
    "This notebook shows how you can login to Evo and publish Geoscience objects from an OMF file to your chosen workspace.\n",
    "\n",
    "__NOTE__: For some OMF geometry types there is more one possible way they could be converted to Geoscience Objects. An OMF LineSet can be used to represent more than one thing (e.g. poly-lines, drillholes, a wireframe mesh, etc). In this example they are converted to LineSegments. You may want to convert them to a different Geoscience Object depending on your use case.\n",
    "\n",
    "In this first cell we create a ServiceManagerWidget which will open a browser window and ask you to login.\n",
    "\n",
    "Once logged in, a widget will be displayed below allowing you to select an organisation and workspace to publish objects to.\n",
    "\n",
    "__Required:__ You must fill in your `client_id` before running this cell."
   ]
  },
  {
   "cell_type": "code",
   "execution_count": null,
   "metadata": {},
   "outputs": [],
   "source": [
    "from evo.notebooks import ServiceManagerWidget\n",
    "\n",
    "manager = await ServiceManagerWidget.with_auth_code(\n",
    "    client_id=\"your-client-id\", oidc_issuer=\"https://ims.bentley.com\"\n",
    ").login()"
   ]
  },
  {
   "cell_type": "markdown",
   "metadata": {},
   "source": [
    "In the cell below we choose the OMF file we want to publish and set its path in the `omf_file` variable.\n",
    "\n",
    "Then we choose an EPSG code to use for the Coordinate Reference System.\n",
    "\n",
    "You may also specify tags to add to the created Geoscience objects.\n",
    "\n",
    "Then we call `convert_omf`, passing it the OMF file path, EPSG code, the service manager widget from above and finally a path we want the published objects to appear under.\n",
    "\n",
    "Then we loop over the results from the `convert_omf` function, printing out each object that was published to Evo.\n",
    "\n",
    "_Note:_ Some geometry types are not yet supported. A warning will be shown for each element that could not be converted."
   ]
  },
  {
   "cell_type": "code",
   "execution_count": null,
   "metadata": {},
   "outputs": [],
   "source": [
    "import os\n",
    "import pprint\n",
    "\n",
    "from evo.data_converters.omf.importer import convert_omf\n",
    "\n",
    "omf_file = os.path.join(os.getcwd(), \"data/input/one_of_everything.omf\")\n",
    "epsg_code = 32650\n",
    "\n",
    "tags = {\"TagName\": \"Tag value\"}\n",
    "\n",
    "objects_metadata = convert_omf(\n",
    "    filepath=omf_file, epsg_code=epsg_code, service_manager_widget=manager, tags=tags, upload_path=\"notebook\"\n",
    ")\n",
    "\n",
    "print()\n",
    "print(\"These objects have now been published:\")\n",
    "\n",
    "for metadata in objects_metadata:\n",
    "    pprint.pp(metadata, indent=4)"
   ]
  }
 ],
 "metadata": {
  "kernelspec": {
   "display_name": "venv",
   "language": "python",
   "name": "python3"
  },
  "language_info": {
   "codemirror_mode": {
    "name": "ipython",
    "version": 3
   },
   "file_extension": ".py",
   "mimetype": "text/x-python",
   "name": "python",
   "nbconvert_exporter": "python",
   "pygments_lexer": "ipython3",
   "version": "3.10.15"
  }
 },
 "nbformat": 4,
 "nbformat_minor": 2
}
