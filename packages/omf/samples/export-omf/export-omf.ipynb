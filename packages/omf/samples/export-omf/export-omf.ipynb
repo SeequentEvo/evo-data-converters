{
 "cells": [
  {
   "cell_type": "markdown",
   "metadata": {},
   "source": [
    "# Export a Geoscience Object to an OMF file\n",
    "\n",
    "This notebook shows how to download and export a Geoscience Object to an OMF v1 file.\n",
    "\n",
    "In this first cell we create a ServiceManagerWidget which will open a browser window and ask you to login.\n",
    "\n",
    "Once logged in, a widget will be displayed below allowing you to select an organisation and workspace to publish objects to.\n",
    "\n",
    "__Required:__ You must fill in your `client_id` before running this cell."
   ]
  },
  {
   "cell_type": "code",
   "execution_count": null,
   "metadata": {},
   "outputs": [],
   "source": [
    "from evo.notebooks import ServiceManagerWidget\n",
    "\n",
    "manager = await ServiceManagerWidget.with_auth_code(\n",
    "    client_id=\"your-client-id\", oidc_issuer=\"https://ims.bentley.com\"\n",
    ").login()"
   ]
  },
  {
   "cell_type": "markdown",
   "metadata": {},
   "source": [
    "In the cell below we specify the Evo Object UUID of object we want to export and the output file path, and then call `export_omf()`.\n",
    "\n",
    "You may also specify the version of this object to export. If not specified, so it will export the latest version.\n",
    "\n",
    "__Required:__ You must fill in your `object_id` of the Evo Object to export before running this cell.\n",
    "\n",
    "_Note:_ Some Geoscience Object types are not yet supported."
   ]
  },
  {
   "cell_type": "code",
   "execution_count": null,
   "metadata": {},
   "outputs": [],
   "source": [
    "import os\n",
    "from uuid import UUID\n",
    "\n",
    "from evo.data_converters.common import EvoObjectMetadata\n",
    "from evo.data_converters.omf.exporter import export_omf\n",
    "\n",
    "# List of object_id and version_id pairs\n",
    "objects_to_export = [\n",
    "    {\"object_id\": \"\", \"version_id\": \"\"},\n",
    "    {\"object_id\": \"\", \"version_id\": None},\n",
    "    # Add more objects as needed\n",
    "]\n",
    "objects = []\n",
    "for object_to_export in objects_to_export:\n",
    "    object_id = object_to_export[\"object_id\"]\n",
    "    version_id = object_to_export[\"version_id\"]\n",
    "    objects.append(EvoObjectMetadata(object_id=UUID(object_id), version_id=version_id))\n",
    "\n",
    "output_dir = \"data/output\"\n",
    "os.makedirs(output_dir, exist_ok=True)\n",
    "\n",
    "output_file = f\"{output_dir}/object.omf\"\n",
    "\n",
    "export_omf(\n",
    "    filepath=output_file,\n",
    "    objects=objects,\n",
    "    service_manager_widget=manager,\n",
    ")\n",
    "\n",
    "print(\"Done\")"
   ]
  }
 ],
 "metadata": {
  "kernelspec": {
   "display_name": "venv",
   "language": "python",
   "name": "python3"
  },
  "language_info": {
   "codemirror_mode": {
    "name": "ipython",
    "version": 3
   },
   "file_extension": ".py",
   "mimetype": "text/x-python",
   "name": "python",
   "nbconvert_exporter": "python",
   "pygments_lexer": "ipython3",
   "version": "3.10.15"
  }
 },
 "nbformat": 4,
 "nbformat_minor": 4
}
