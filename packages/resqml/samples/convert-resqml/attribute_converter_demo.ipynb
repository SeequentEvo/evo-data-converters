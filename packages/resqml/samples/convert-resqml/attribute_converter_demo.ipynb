{
 "cells": [
  {
   "cell_type": "markdown",
   "id": "9deb6e79-ebdc-4d6a-adc9-0cb907b9c453",
   "metadata": {},
   "source": [
    "# Demo of RESQML Attribute Conversion\n",
    "Attributes covered are (Geoscience schema object names in brackets):\n",
    "* Discrete (IntegerAttribute)\n",
    "* Continuous (ContinuousAttribute)\n",
    "* Categorical (CategoryAttribute)\n",
    "* Points (VectorAttribute)"
   ]
  },
  {
   "cell_type": "code",
   "execution_count": null,
   "id": "3682cf98-ce51-442a-903f-6e1d149d8fa7",
   "metadata": {},
   "outputs": [],
   "source": [
    "from pprint import pprint"
   ]
  },
  {
   "cell_type": "markdown",
   "id": "4d853d73-2b37-4734-9514-bef1344fdc63",
   "metadata": {},
   "source": [
    "Import our conversion code"
   ]
  },
  {
   "cell_type": "code",
   "execution_count": null,
   "id": "5a8c8857-eeb8-404b-825e-8564974bb890",
   "metadata": {},
   "outputs": [],
   "source": [
    "from evo.data_converters.common.evo_client import EvoWorkspaceMetadata, create_evo_object_service_and_data_client\n",
    "from evo.data_converters.resqml.importer._attribute_converters import (\n",
    "    convert_categorical_property,\n",
    "    convert_continuous_property,\n",
    "    convert_discrete_property,\n",
    "    convert_points_property,\n",
    "    create_category_lookup_and_data,\n",
    ")"
   ]
  },
  {
   "cell_type": "markdown",
   "id": "3b2f6fab-4727-4ebf-a45c-aae5550487c4",
   "metadata": {},
   "source": [
    "Create a data_client object which we can use to save data"
   ]
  },
  {
   "cell_type": "code",
   "execution_count": null,
   "id": "10d93f42-b199-4c61-936f-11e0c43fc319",
   "metadata": {},
   "outputs": [],
   "source": [
    "_, data_client = create_evo_object_service_and_data_client(EvoWorkspaceMetadata(org_id=\"\", workspace_id=\"\"))"
   ]
  },
  {
   "cell_type": "markdown",
   "id": "85182265-3e79-4349-9fda-1f712c9d7e96",
   "metadata": {},
   "source": [
    "And import the target Geoscience Objects"
   ]
  },
  {
   "cell_type": "code",
   "execution_count": null,
   "id": "5b129516-1d09-4359-9a28-1ebe08230170",
   "metadata": {},
   "outputs": [],
   "source": [
    "from evo_schemas.components import CategoryAttribute_V1_0_1 as CategoryAttribute\n",
    "from evo_schemas.components import ContinuousAttribute_V1_0_1 as ContinuousAttribute\n",
    "from evo_schemas.components import IntegerAttribute_V1_0_1 as IntegerAttribute\n",
    "from evo_schemas.components import VectorAttribute_V1_0_0 as VectorAttribute"
   ]
  },
  {
   "cell_type": "markdown",
   "id": "cf5a3cc6-28ba-4a86-bd50-21cf9688d474",
   "metadata": {},
   "source": [
    "Create a RESQML Model and add a RegularGrid to it"
   ]
  },
  {
   "cell_type": "code",
   "execution_count": null,
   "id": "56daa70b-c404-4407-a645-42a42faaf217",
   "metadata": {},
   "outputs": [],
   "source": [
    "from os import path\n",
    "\n",
    "import resqpy.grid as rqg\n",
    "import resqpy.model as rqm\n",
    "import resqpy.property as rqp"
   ]
  },
  {
   "cell_type": "code",
   "execution_count": null,
   "id": "10cb9e11-d509-4942-957c-86a89a65c720",
   "metadata": {},
   "outputs": [],
   "source": [
    "# Create a Model and add a Grid to it\n",
    "model_file = \"demo_attribute_conversion.epc\"\n",
    "mymodel = rqm.new_model(model_file)\n",
    "\n",
    "mygrid = rqg.RegularGrid(mymodel, extent_kji=(2, 3, 4), title=\"Test Grid\")\n",
    "mygrid.write_hdf5()\n",
    "mygrid.create_xml(add_relationships=False, write_active=False, write_geometry=False, add_cell_length_properties=False)"
   ]
  },
  {
   "cell_type": "markdown",
   "id": "ccad43b8-55ea-46f2-875d-927443eb302a",
   "metadata": {},
   "source": [
    "Create some utility code to help with generating and checking the data"
   ]
  },
  {
   "cell_type": "code",
   "execution_count": null,
   "id": "af8dcc88-d84d-4bd1-b99e-d4fa3e9c3332",
   "metadata": {},
   "outputs": [],
   "source": [
    "import numpy as np\n",
    "import pandas as pd\n",
    "import pyarrow.parquet as pq\n",
    "\n",
    "\n",
    "def get_data_from_parquet_file(pq_hash, data_client):\n",
    "    return pq.read_table(path.join(data_client.cache_location, pq_hash)).to_pandas()\n",
    "\n",
    "\n",
    "def check_data_is_valid(resqml_data, go_data):\n",
    "    flattened_values = resqml_data.flatten()\n",
    "    resqml_data_as_df = pd.DataFrame(flattened_values, columns=[\"data\"])\n",
    "    for resqml, go in zip(resqml_data_as_df, go_data):\n",
    "        if resqml != go:\n",
    "            return False\n",
    "    return True\n",
    "\n",
    "\n",
    "def check_lookup_table_is_valid(resqml_lookup_df, go_lookup_df):\n",
    "    return resqml_lookup_df.size == go_lookup_df.size and np.all(resqml_lookup_df == go_lookup_df)\n",
    "\n",
    "\n",
    "# Random data generator\n",
    "rand = np.random.default_rng()"
   ]
  },
  {
   "cell_type": "markdown",
   "id": "73b8832c-4043-444f-ba06-de1fa00f7368",
   "metadata": {},
   "source": [
    "# RESQML Discrete Property"
   ]
  },
  {
   "cell_type": "code",
   "execution_count": null,
   "id": "00708bd7-c369-4060-90e5-f10e1385e720",
   "metadata": {},
   "outputs": [],
   "source": [
    "discrete_data = rand.integers(1, 10, mygrid.extent_kji)\n",
    "discrete_property = rqp.Property.from_array(\n",
    "    mymodel,\n",
    "    discrete_data,\n",
    "    discrete=True,\n",
    "    source_info=\"test data\",\n",
    "    property_kind=\"DiscreteProperty\",\n",
    "    indexable_element=\"cells\",\n",
    "    keyword=\"Discrete Property Test\",\n",
    "    support_uuid=mygrid.uuid,\n",
    "    uom=\"m\",\n",
    ")"
   ]
  },
  {
   "cell_type": "markdown",
   "id": "72def47f-6d14-45e3-b536-befa5a354924",
   "metadata": {},
   "source": [
    "Convert the RESQML Discrete Property -> Geoscience Object IntegerAttribute"
   ]
  },
  {
   "cell_type": "code",
   "execution_count": null,
   "id": "c7895024-7d5e-4147-ab6e-0288498caaa7",
   "metadata": {},
   "outputs": [],
   "source": [
    "property = discrete_property\n",
    "title = property.citation_title\n",
    "go = convert_discrete_property(property, data_client)\n",
    "pprint(go)\n",
    "if isinstance(go, IntegerAttribute):\n",
    "    print(f\"Property '{title}' was returned as an IntegerAttribute\")\n",
    "else:\n",
    "    print(\"Boo!\")"
   ]
  },
  {
   "cell_type": "markdown",
   "id": "f1c23a5a-1c72-46e1-99d9-f5540bc6e1a5",
   "metadata": {},
   "source": [
    "View the discrete data"
   ]
  },
  {
   "cell_type": "code",
   "execution_count": null,
   "id": "30607e68-3266-4823-a58d-ee9de49d5bb6",
   "metadata": {},
   "outputs": [],
   "source": [
    "print(pq.read_table(path.join(data_client.cache_location, go.values.data)).to_pandas())"
   ]
  },
  {
   "cell_type": "markdown",
   "id": "3b00105f-3af2-4204-b7b8-c1f021bab4ae",
   "metadata": {},
   "source": [
    "Check that the source data from RESQML matches the data in our Geoscience Object"
   ]
  },
  {
   "cell_type": "code",
   "execution_count": null,
   "id": "626e1617-5948-41da-80bc-ecb6e8fb0172",
   "metadata": {},
   "outputs": [],
   "source": [
    "if check_data_is_valid(discrete_property.array_ref(), get_data_from_parquet_file(go.values.data, data_client)):\n",
    "    print(\"Data is OK\")\n",
    "else:\n",
    "    print(\"Data is INVALID\")"
   ]
  },
  {
   "cell_type": "markdown",
   "id": "cb48fe22-7d7f-4a5b-852e-c862dc0ec78b",
   "metadata": {},
   "source": [
    "# RESQML Continuous Property"
   ]
  },
  {
   "cell_type": "code",
   "execution_count": null,
   "id": "c6a0aaa5-4320-4506-80af-9fcc9487a0b8",
   "metadata": {},
   "outputs": [],
   "source": [
    "continuous_data = rand.random(mygrid.extent_kji).astype(np.float64)\n",
    "continuous_property = rqp.Property.from_array(\n",
    "    mymodel,\n",
    "    continuous_data,\n",
    "    dtype=np.float64,\n",
    "    discrete=False,\n",
    "    source_info=\"test data\",\n",
    "    property_kind=\"ContinuousProperty\",\n",
    "    indexable_element=\"cells\",\n",
    "    keyword=\"Continuous Property Test\",\n",
    "    support_uuid=mygrid.uuid,\n",
    "    uom=\"m\",\n",
    ")"
   ]
  },
  {
   "cell_type": "code",
   "execution_count": null,
   "id": "ff952213-9fb6-498a-8211-c539f9f39398",
   "metadata": {},
   "outputs": [],
   "source": [
    "property = continuous_property\n",
    "title = property.citation_title\n",
    "go = convert_continuous_property(property, data_client)\n",
    "pprint(go)\n",
    "if isinstance(go, ContinuousAttribute):\n",
    "    print(f\"Property '{title}' was returned as a ContinuousAttribute\")\n",
    "else:\n",
    "    print(\"Boo!\")"
   ]
  },
  {
   "cell_type": "markdown",
   "id": "24374c4f-d955-491f-85ed-fbddb022540d",
   "metadata": {},
   "source": [
    "View continuous data"
   ]
  },
  {
   "cell_type": "code",
   "execution_count": null,
   "id": "4a1dcb71-417b-437a-924c-9859a2785708",
   "metadata": {},
   "outputs": [],
   "source": [
    "print(pq.read_table(path.join(data_client.cache_location, go.values.data)).to_pandas())"
   ]
  },
  {
   "cell_type": "markdown",
   "id": "427296c8-d936-444f-b735-4aee7cf3e6c0",
   "metadata": {},
   "source": [
    "Check that the source data from RESQML matches the data in our Geoscience Object"
   ]
  },
  {
   "cell_type": "code",
   "execution_count": null,
   "id": "78ec1f55-2ecb-45ef-8103-581ae8138063",
   "metadata": {},
   "outputs": [],
   "source": [
    "if check_data_is_valid(continuous_property.array_ref(), get_data_from_parquet_file(go.values.data, data_client)):\n",
    "    print(\"Data is OK\")\n",
    "else:\n",
    "    print(\"Data is INVALID\")"
   ]
  },
  {
   "cell_type": "markdown",
   "id": "19663658-1411-45ae-9841-01d3557a2e08",
   "metadata": {},
   "source": [
    "# RESQML Categorical Property"
   ]
  },
  {
   "cell_type": "code",
   "execution_count": null,
   "id": "41328a76-2072-4ad7-8601-47c86e14ce02",
   "metadata": {},
   "outputs": [],
   "source": [
    "# create a set of category labels in our model\n",
    "string_lookup = rqp.StringLookup(mymodel)\n",
    "string_lookup.set_string(\"0\", \"sandstone\")\n",
    "string_lookup.set_string(\"1\", \"shale\")\n",
    "string_lookup.set_string(\"2\", \"limestone\")\n",
    "string_lookup.create_xml()\n",
    "\n",
    "# lookup table\n",
    "lookup_as_dict = string_lookup.as_dict()\n",
    "indices = list(lookup_as_dict.keys())\n",
    "names = lookup_as_dict.values()\n",
    "table_df = pd.DataFrame({\"data\": names, \"index\": indices})\n",
    "table_df.set_index(\"index\", inplace=True)\n",
    "lookup_table_df, values_df = create_category_lookup_and_data(table_df)\n",
    "\n",
    "# randomly assign a category to each cell\n",
    "categorical_data = rand.integers(0, 3, size=mygrid.extent_kji)\n",
    "categorical_property = rqp.Property.from_array(\n",
    "    mymodel,\n",
    "    categorical_data,\n",
    "    discrete=True,\n",
    "    source_info=\"test data\",\n",
    "    property_kind=\"CategoricalProperty\",\n",
    "    indexable_element=\"cells\",\n",
    "    keyword=\"Categorical Property Test\",\n",
    "    support_uuid=mygrid.uuid,\n",
    "    string_lookup_uuid=string_lookup.uuid,\n",
    "    uom=\"m\",\n",
    ")"
   ]
  },
  {
   "cell_type": "code",
   "execution_count": null,
   "id": "bca9f9a4-4767-437f-b42b-de60cc66905c",
   "metadata": {},
   "outputs": [],
   "source": [
    "property = categorical_property\n",
    "title = property.citation_title\n",
    "go = convert_categorical_property(mymodel, property, data_client)\n",
    "pprint(go)"
   ]
  },
  {
   "cell_type": "code",
   "execution_count": null,
   "id": "12d84789-2f5b-4322-907a-533c7f1518d2",
   "metadata": {},
   "outputs": [],
   "source": [
    "if isinstance(go, CategoryAttribute):\n",
    "    print(f\"Property '{title}' was returned as a CategoryAttribute\")\n",
    "else:\n",
    "    print(f\"ERROR {title} was NOT returned as a CategoryAttribute!\")"
   ]
  },
  {
   "cell_type": "markdown",
   "id": "107f66e4-7476-462d-b561-e6c9f7a59fd0",
   "metadata": {},
   "source": [
    "View the resulting Geoscience Object lookup table, followed by the categorical data"
   ]
  },
  {
   "cell_type": "code",
   "execution_count": null,
   "id": "89d912bf-8818-4265-8313-e9006f27bc37",
   "metadata": {},
   "outputs": [],
   "source": [
    "print(pq.read_table(path.join(data_client.cache_location, go.table.data)).to_pandas())\n",
    "print(pq.read_table(path.join(data_client.cache_location, go.values.data)).to_pandas())"
   ]
  },
  {
   "cell_type": "markdown",
   "id": "6257b159-1016-416e-a388-d2fe6dc60b36",
   "metadata": {},
   "source": [
    "Check the data values are valid"
   ]
  },
  {
   "cell_type": "code",
   "execution_count": null,
   "id": "358e264e-74ad-4525-afc3-3c9d5f77d874",
   "metadata": {},
   "outputs": [],
   "source": [
    "if check_data_is_valid(categorical_property.array_ref(), get_data_from_parquet_file(go.values.data, data_client)):\n",
    "    print(\"Data is OK\")\n",
    "else:\n",
    "    print(\"Data is INVALID\")"
   ]
  },
  {
   "cell_type": "markdown",
   "id": "7f4c4be8-0c9b-44dd-8801-3db0021a3fb2",
   "metadata": {},
   "source": [
    "Check the lookup table is ok"
   ]
  },
  {
   "cell_type": "code",
   "execution_count": null,
   "id": "c6f1e6e9-3daf-4927-98c2-c418460be911",
   "metadata": {},
   "outputs": [],
   "source": [
    "if check_lookup_table_is_valid(lookup_table_df, get_data_from_parquet_file(go.table.data, data_client)):\n",
    "    print(\"Lookup table is OK\")\n",
    "else:\n",
    "    print(\"Lookup table is INVALID\")\n",
    "print(f\"RESQML Lookup:\\n{lookup_table_df}\")\n",
    "print(f\"GO Lookup:\\n{get_data_from_parquet_file(go.table.data, data_client)}\")"
   ]
  },
  {
   "cell_type": "markdown",
   "id": "1ce76716-ec50-45c7-9c1b-caee2c914b0b",
   "metadata": {},
   "source": [
    "# RESQML Points Property"
   ]
  },
  {
   "cell_type": "code",
   "execution_count": null,
   "id": "752da7a8-abc7-44e6-988d-6b4757a85515",
   "metadata": {},
   "outputs": [],
   "source": [
    "import resqpy.olio.vector_utilities as vec\n",
    "\n",
    "if mygrid.property_collection is None:\n",
    "    mygrid.property_collection = rqp.PropertyCollection(support=mygrid)\n",
    "pc = mygrid.property_collection\n",
    "\n",
    "# Define shape to be the grid plus x,y,z points\n",
    "points_extent = tuple(list(mygrid.extent_kji) + [3])\n",
    "\n",
    "# Create a static points property with some random stress data\n",
    "stress = vec.unit_vectors(np.random.random(points_extent) + 0.1)\n",
    "pc.add_cached_array_to_imported_list(\n",
    "    cached_array=stress,\n",
    "    source_info=\"random stress vectors\",\n",
    "    keyword=\"stress direction\",\n",
    "    uom=\"m\",\n",
    "    property_kind=\"length\",\n",
    "    indexable_element=\"cells\",\n",
    "    points=True,\n",
    ")\n",
    "pc.write_hdf5_for_imported_list()\n",
    "pc.create_xml_for_imported_list_and_add_parts_to_model()\n",
    "mymodel.store_epc()\n",
    "\n",
    "points_part = pc.singleton(citation_title=\"stress direction\", points=True)\n",
    "stress_uuid = pc.uuid_for_part(points_part)\n",
    "points_property = rqp.Property(mymodel, uuid=stress_uuid)"
   ]
  },
  {
   "cell_type": "code",
   "execution_count": null,
   "id": "3a683732-e762-4288-8cd1-ac1377029467",
   "metadata": {},
   "outputs": [],
   "source": [
    "property = points_property\n",
    "title = property.citation_title\n",
    "go = convert_points_property(property, data_client)\n",
    "pprint(go)"
   ]
  },
  {
   "cell_type": "code",
   "execution_count": null,
   "id": "3727e77e-3938-43f7-8049-41b15c76d43a",
   "metadata": {},
   "outputs": [],
   "source": [
    "if isinstance(go, VectorAttribute):\n",
    "    print(f\"Property '{title}' was returned as a VectorAttribute\")\n",
    "else:\n",
    "    print(f\"ERROR {title} was NOT returned as a VectorAttribute!\")"
   ]
  },
  {
   "cell_type": "markdown",
   "id": "c111ba6e-ce40-46f4-821a-b1e30891ab81",
   "metadata": {},
   "source": [
    "View the resulting Geoscience Object lookup table, followed by the categorical data"
   ]
  },
  {
   "cell_type": "code",
   "execution_count": null,
   "id": "0280e26a-b599-4d1a-8967-d868d92ce491",
   "metadata": {},
   "outputs": [],
   "source": [
    "print(pq.read_table(path.join(data_client.cache_location, go.values.data)).to_pandas())"
   ]
  },
  {
   "cell_type": "markdown",
   "id": "b4ec8f84-122f-41a2-8578-034e2830731a",
   "metadata": {},
   "source": [
    "Check the data is Ok"
   ]
  },
  {
   "cell_type": "code",
   "execution_count": null,
   "id": "4eeeaa3e-c28e-4302-aad8-0bd63a37bd12",
   "metadata": {},
   "outputs": [],
   "source": [
    "prop_data = points_property.array_ref().reshape(-1, 3)\n",
    "go_data = get_data_from_parquet_file(go.values.data, data_client).to_numpy()\n",
    "if go_data.all() == prop_data.all():\n",
    "    print(\"Data is OK\")\n",
    "else:\n",
    "    print(\"Data is INVALID\")"
   ]
  }
 ],
 "metadata": {
  "kernelspec": {
   "display_name": "Python 3 (ipykernel)",
   "language": "python",
   "name": "python3"
  },
  "language_info": {
   "codemirror_mode": {
    "name": "ipython",
    "version": 3
   },
   "file_extension": ".py",
   "mimetype": "text/x-python",
   "name": "python",
   "nbconvert_exporter": "python",
   "pygments_lexer": "ipython3",
   "version": "3.10.15"
  }
 },
 "nbformat": 4,
 "nbformat_minor": 5
}
