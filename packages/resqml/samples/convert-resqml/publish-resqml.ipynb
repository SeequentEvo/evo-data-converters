{
 "cells": [
  {
   "cell_type": "markdown",
   "metadata": {},
   "source": [
    "# Publish geoscience objects from a RESQML file\n",
    "\n",
    "This notebook shows how you can login to Evo and publish geoscience objects from a RESQML file to your chosen workspace.\n",
    "\n",
    "In this first cell we create a ServiceManagerWidget which will open a browser window and ask you to login.\n",
    "\n",
    "Once logged in, a widget will be displayed below allowing you to select an organisation and workspace to publish objects to.\n",
    "\n",
    "__Required:__ You must fill in your `client_id` before running this cell."
   ]
  },
  {
   "cell_type": "code",
   "execution_count": null,
   "metadata": {},
   "outputs": [],
   "source": [
    "from evo.notebooks import ServiceManagerWidget\n",
    "\n",
    "manager = await ServiceManagerWidget.with_auth_code(\n",
    "    client_id=\"your-client-id\", oidc_issuer=\"https://ims.bentley.com\"\n",
    ").login()"
   ]
  },
  {
   "cell_type": "markdown",
   "metadata": {},
   "source": [
    "In the cell below we choose the RESQML file we want to publish and set its path in the `resqml_file` variable.\n",
    "\n",
    "Then we choose an EPSG code to use for the Coordinate Reference System. The way the EPSG code is determined is as follows:\n",
    "If there is a CRS associated with the Grid/Surface/etc to get the `epsg_code`, then use that. If not then use the model CRS.\n",
    "And finally if there is no model CRS, use the default `epsg_code` passed in to the routine.\n",
    "\n",
    "Then we call `convert_resqml`, passing it the RESQML file path, EPSG code, the service manager widget from above and finally a path we want the published objects to appear under.\n",
    "\n",
    "Then we loop over the results from the `convert_resqml` function, printing out each object that was published to Evo.\n",
    "\n",
    "_Note:_ The data for this sample is not included in the repository and the following two files will need to be down loaded to samples/data-converters/python/convert-resqml/data\n",
    "\n",
    "    https://github.com/bp/resqpy/blob/master/example_data/block.epc\n",
    "    https://github.com/bp/resqpy/blob/master/example_data/block.h5\n"
   ]
  },
  {
   "cell_type": "code",
   "execution_count": null,
   "metadata": {},
   "outputs": [],
   "source": [
    "import os\n",
    "import pprint\n",
    "\n",
    "from evo.data_converters.resqml.importer import RESQMLConversionOptions, convert_resqml\n",
    "\n",
    "resqml_file = os.path.join(os.getcwd(), \"data/block.epc\")\n",
    "epsg_code = 32650\n",
    "tags = {\n",
    "    \"TagName\": \"Tag value\",\n",
    "}\n",
    "\n",
    "# Override the default option and export all cells, instead of just the active cells\n",
    "# Override the memory threshold setting it to 1 GiB (the default is 8 GiB)\n",
    "ONE_GB = 1 * 1024 * 1024 * 1024\n",
    "options = RESQMLConversionOptions(active_cells_only=False, memory_threshold=ONE_GB)\n",
    "objects_metadata = convert_resqml(\n",
    "    filepath=resqml_file, epsg_code=epsg_code, service_manager_widget=manager, tags=tags, upload_path=\"notebook\"\n",
    ")\n",
    "\n",
    "print()\n",
    "print(\"These objects have now been published:\")\n",
    "\n",
    "for metadata in objects_metadata:\n",
    "    pprint.pp(metadata, indent=4)"
   ]
  },
  {
   "cell_type": "markdown",
   "metadata": {},
   "source": [
    "# Notes:\n",
    "## Log messages\n",
    "`Ignoring property obj_ContinuousProperty_2de3f074-524d-48a4-af75-832d71c708ef.xml 2de3f074-524d-48a4-af75-832d71c708ef, properties with multiple PatchOfValues are not supported`\n",
    "\n",
    "**RESQML** supports multiple *PatchOfValue* elements for an attribute, however *resqpy* does not currently support this so the attribute has not been converted.\n",
    "\n",
    "## options.memory_threshold\n",
    "\n",
    "To calculate the grid geometry the *resqpy* `grid.corner_points` array is used, this array can be very large so the maximum size for this is specified in `RESQMLConversionOptions::memory_threshold`. Grids which would exceed this size will not be converted.\n",
    "\n",
    "\n"
   ]
  }
 ],
 "metadata": {
  "kernelspec": {
   "display_name": "Python 3 (ipykernel)",
   "language": "python",
   "name": "python3"
  },
  "language_info": {
   "codemirror_mode": {
    "name": "ipython",
    "version": 3
   },
   "file_extension": ".py",
   "mimetype": "text/x-python",
   "name": "python",
   "nbconvert_exporter": "python",
   "pygments_lexer": "ipython3",
   "version": "3.10.16"
  }
 },
 "nbformat": 4,
 "nbformat_minor": 4
}
