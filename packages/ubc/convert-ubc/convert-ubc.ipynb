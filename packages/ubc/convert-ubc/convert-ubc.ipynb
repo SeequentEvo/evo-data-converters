{
 "cells": [
  {
   "cell_type": "markdown",
   "id": "6eb254f1",
   "metadata": {},
   "source": [
    "# Publish Geoscience objects from a UBC file\n",
    "\n",
    "This notebook shows how you can login to Evo and publish Geoscience objects from an UBC file to your chosen workspace.\n",
    "\n",
    "In this first cell we create a ServiceManagerWidget which will open a browser window and ask you to login.\n",
    "\n",
    "Once logged in, a widget will be displayed below allowing you to select an organisation and workspace to publish objects to.\n",
    "\n",
    "__Required:__ You must fill in your `client_id` before running this cell."
   ]
  },
  {
   "cell_type": "code",
   "execution_count": null,
   "id": "bcaf53dc",
   "metadata": {},
   "outputs": [],
   "source": [
    "from evo.notebooks import ServiceManagerWidget\n",
    "\n",
    "manager = await ServiceManagerWidget.with_auth_code(\n",
    "    client_id=\"your-client-id\",\n",
    "    oidc_issuer=\"https://ims.bentley.com\",\n",
    "    discovery_url=\"https://discover.api.seequent.com\",\n",
    "    redirect_url=\"http://localhost:3000/signin-oidc\",\n",
    ").login()"
   ]
  },
  {
   "cell_type": "markdown",
   "id": "6d7756d3",
   "metadata": {},
   "source": [
    "In the cell below we choose the UBC files we want to publish and set its path in the `ubc_file` list variable.\n",
    "\n",
    "Then we choose an EPSG code to use for the Coordinate Reference System.\n",
    "\n",
    "You may also specify tags to add to the created Geoscience objects.\n",
    "\n",
    "Then we call `convert_ubc`, passing it the UBC file path, EPSG code, the service manager widget from above, and finally a path we want the published objects to appear under.\n",
    "\n",
    "Then we loop over the results from the `convert_ubc` function, printing out each object that was published to Evo."
   ]
  },
  {
   "cell_type": "code",
   "execution_count": null,
   "id": "bcca161e",
   "metadata": {},
   "outputs": [],
   "source": [
    "import os\n",
    "import pprint\n",
    "\n",
    "from evo.data_converters.ubc.importer import convert_ubc\n",
    "\n",
    "ubc_file = [os.path.join(os.getcwd(), \"data/input/block_mesh.msh\")]\n",
    "epsg_code = 32650\n",
    "\n",
    "tags = {\"Source\": \"Jupter Notebook\"}\n",
    "\n",
    "objects_metadata = convert_ubc(\n",
    "    files_path=ubc_file, epsg_code=epsg_code, service_manager_widget=manager, tags=tags, upload_path=\"notebook\"\n",
    ")\n",
    "\n",
    "print()\n",
    "print(\"These objects have now been published:\")\n",
    "\n",
    "for metadata in objects_metadata:\n",
    "    pprint.pp(metadata, indent=4)"
   ]
  }
 ],
 "metadata": {
  "kernelspec": {
   "display_name": "Python 3",
   "language": "python",
   "name": "python3"
  },
  "language_info": {
   "codemirror_mode": {
    "name": "ipython",
    "version": 3
   },
   "file_extension": ".py",
   "mimetype": "text/x-python",
   "name": "python",
   "nbconvert_exporter": "python",
   "pygments_lexer": "ipython3",
   "version": "3.10.0"
  }
 },
 "nbformat": 4,
 "nbformat_minor": 5
}
