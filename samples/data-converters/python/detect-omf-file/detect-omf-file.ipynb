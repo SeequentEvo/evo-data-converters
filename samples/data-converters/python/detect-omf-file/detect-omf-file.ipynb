{
 "cells": [
  {
   "cell_type": "markdown",
   "id": "ce6f685eb796ee7e",
   "metadata": {},
   "source": [
    "## Detect an OMF file\n",
    "\n",
    "This example shows how to use the Evo data converters library to check if a file is Open Mining Format (OMF)."
   ]
  },
  {
   "cell_type": "code",
   "execution_count": null,
   "id": "1fddf049fd8f0f73",
   "metadata": {},
   "outputs": [],
   "source": [
    "import os\n",
    "\n",
    "from evo.data_converters.omf import is_omf\n",
    "\n",
    "omf_file = os.path.join(os.getcwd(), \"data/input/test.omf\")\n",
    "\n",
    "if is_omf(omf_file):\n",
    "    print(\"This is an OMF file.\")\n",
    "else:\n",
    "    print(\"This is not an OMF file.\")"
   ]
  },
  {
   "cell_type": "code",
   "execution_count": null,
   "id": "a8e7a5cb-4809-4ad5-8e85-93255537db9e",
   "metadata": {},
   "outputs": [],
   "source": []
  }
 ],
 "metadata": {
  "kernelspec": {
   "display_name": "Python 3 (ipykernel)",
   "language": "python",
   "name": "python3"
  },
  "language_info": {
   "codemirror_mode": {
    "name": "ipython",
    "version": 3
   },
   "file_extension": ".py",
   "mimetype": "text/x-python",
   "name": "python",
   "nbconvert_exporter": "python",
   "pygments_lexer": "ipython3",
   "version": "3.10.9"
  }
 },
 "nbformat": 4,
 "nbformat_minor": 5
}
